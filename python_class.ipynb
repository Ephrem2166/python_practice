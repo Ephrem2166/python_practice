{
 "cells": [
  {
   "cell_type": "markdown",
   "metadata": {},
   "source": [
    "- python is an object oriented programming language\n",
    "- everything in python is an object\n",
    "- an object has properties and methods\n",
    "- class is an object constructor\n",
    "- a class is a blueprint for creating objects\n",
    "- Note: class definitions cannot be empty, but if you for some reason have a class definition with no content, put in the `pass` statement to avoid getting an error.\n",
    "\n",
    "\n"
   ]
  },
  {
   "cell_type": "code",
   "execution_count": 2,
   "metadata": {},
   "outputs": [],
   "source": [
    "class MyClass():\n",
    "    x  = 5"
   ]
  },
  {
   "cell_type": "code",
   "execution_count": 3,
   "metadata": {},
   "outputs": [
    {
     "name": "stdout",
     "output_type": "stream",
     "text": [
      "5\n"
     ]
    }
   ],
   "source": [
    "sample = MyClass()\n",
    "print(sample.x)"
   ]
  },
  {
   "cell_type": "markdown",
   "metadata": {},
   "source": [
    "- All classes have a function called `__init__()`, which is always executed when the class is being initiated.\n",
    "\n",
    "- Use the `__init__()` function to assign values to object properties, or other operations that are necessary to do when the object is being created"
   ]
  },
  {
   "cell_type": "code",
   "execution_count": 4,
   "metadata": {},
   "outputs": [
    {
     "name": "stdout",
     "output_type": "stream",
     "text": [
      "Ephrem\n",
      "32\n"
     ]
    }
   ],
   "source": [
    "class Person():\n",
    "    def __init__(self, name, age):\n",
    "        self.name = name\n",
    "        self.age = age\n",
    "\n",
    "person_1 = Person(\"Ephrem\", 32)\n",
    "print(person_1.name)\n",
    "print(person_1.age)"
   ]
  },
  {
   "cell_type": "markdown",
   "metadata": {},
   "source": [
    "- Note: The `__init__()` function is called automatically every time the class is being used to create a new object."
   ]
  },
  {
   "cell_type": "markdown",
   "metadata": {},
   "source": [
    "### Object Methods\n",
    "\n",
    "- Methods in objects are functions that belong to the object."
   ]
  },
  {
   "cell_type": "code",
   "execution_count": 7,
   "metadata": {},
   "outputs": [
    {
     "name": "stdout",
     "output_type": "stream",
     "text": [
      "Hello, Ephrem\n"
     ]
    }
   ],
   "source": [
    "class Person():\n",
    "    def __init__(self, name, age):\n",
    "        self.name = name\n",
    "        self.age = age\n",
    "\n",
    "    def my_func(self):\n",
    "        print(f\"Hello, {self.name}\")\n",
    "\n",
    "person_1 = Person(\"Ephrem\", 33)\n",
    "person_1.my_func()"
   ]
  },
  {
   "cell_type": "markdown",
   "metadata": {},
   "source": [
    "- The `self` parameter is a reference to the current instance of the class, and is used to access variables that belong to the class.\n",
    "- It does not have to be named `self` , you can call it whatever you like, but it has to be the first parameter of any function in the class:"
   ]
  },
  {
   "cell_type": "code",
   "execution_count": 8,
   "metadata": {},
   "outputs": [
    {
     "name": "stdout",
     "output_type": "stream",
     "text": [
      "Animal Type: dog\n",
      "Number of legs: 4\n"
     ]
    }
   ],
   "source": [
    "class Animal():\n",
    "    def __init__(reference, animal_type, number_of_legs):\n",
    "        reference.animal_type = animal_type\n",
    "        reference.number_of_legs = number_of_legs\n",
    "\n",
    "    def display_animal(reference):\n",
    "        print(f\"Animal Type: {reference.animal_type}\\nNumber of legs: {reference.number_of_legs}\")\n",
    "\n",
    "animal = Animal(\"dog\", 4)\n",
    "animal.display_animal()"
   ]
  },
  {
   "cell_type": "code",
   "execution_count": 10,
   "metadata": {},
   "outputs": [
    {
     "name": "stdout",
     "output_type": "stream",
     "text": [
      "Animal Type: cat\n",
      "Number of legs: 4\n"
     ]
    }
   ],
   "source": [
    "# Modifying properties of objects\n",
    "animal.animal_type = \"cat\"\n",
    "animal.display_animal()"
   ]
  },
  {
   "cell_type": "code",
   "execution_count": 11,
   "metadata": {},
   "outputs": [],
   "source": [
    "# Delete Object Properties\n",
    "del animal.number_of_legs"
   ]
  },
  {
   "cell_type": "code",
   "execution_count": 12,
   "metadata": {},
   "outputs": [
    {
     "ename": "AttributeError",
     "evalue": "'Animal' object has no attribute 'number_of_legs'",
     "output_type": "error",
     "traceback": [
      "\u001b[1;31m---------------------------------------------------------------------------\u001b[0m",
      "\u001b[1;31mAttributeError\u001b[0m                            Traceback (most recent call last)",
      "\u001b[1;32m~\\AppData\\Local\\Temp\\ipykernel_21496\\1306914378.py\u001b[0m in \u001b[0;36m<module>\u001b[1;34m\u001b[0m\n\u001b[1;32m----> 1\u001b[1;33m \u001b[0manimal\u001b[0m\u001b[1;33m.\u001b[0m\u001b[0mdisplay_animal\u001b[0m\u001b[1;33m(\u001b[0m\u001b[1;33m)\u001b[0m\u001b[1;33m\u001b[0m\u001b[1;33m\u001b[0m\u001b[0m\n\u001b[0m",
      "\u001b[1;32m~\\AppData\\Local\\Temp\\ipykernel_21496\\289448277.py\u001b[0m in \u001b[0;36mdisplay_animal\u001b[1;34m(reference)\u001b[0m\n\u001b[0;32m      5\u001b[0m \u001b[1;33m\u001b[0m\u001b[0m\n\u001b[0;32m      6\u001b[0m     \u001b[1;32mdef\u001b[0m \u001b[0mdisplay_animal\u001b[0m\u001b[1;33m(\u001b[0m\u001b[0mreference\u001b[0m\u001b[1;33m)\u001b[0m\u001b[1;33m:\u001b[0m\u001b[1;33m\u001b[0m\u001b[1;33m\u001b[0m\u001b[0m\n\u001b[1;32m----> 7\u001b[1;33m         \u001b[0mprint\u001b[0m\u001b[1;33m(\u001b[0m\u001b[1;34mf\"Animal Type: {reference.animal_type}\\nNumber of legs: {reference.number_of_legs}\"\u001b[0m\u001b[1;33m)\u001b[0m\u001b[1;33m\u001b[0m\u001b[1;33m\u001b[0m\u001b[0m\n\u001b[0m\u001b[0;32m      8\u001b[0m \u001b[1;33m\u001b[0m\u001b[0m\n\u001b[0;32m      9\u001b[0m \u001b[0manimal\u001b[0m \u001b[1;33m=\u001b[0m \u001b[0mAnimal\u001b[0m\u001b[1;33m(\u001b[0m\u001b[1;34m\"dog\"\u001b[0m\u001b[1;33m,\u001b[0m \u001b[1;36m4\u001b[0m\u001b[1;33m)\u001b[0m\u001b[1;33m\u001b[0m\u001b[1;33m\u001b[0m\u001b[0m\n",
      "\u001b[1;31mAttributeError\u001b[0m: 'Animal' object has no attribute 'number_of_legs'"
     ]
    }
   ],
   "source": [
    "animal.display_animal()"
   ]
  },
  {
   "cell_type": "code",
   "execution_count": 13,
   "metadata": {},
   "outputs": [
    {
     "name": "stdout",
     "output_type": "stream",
     "text": [
      "Animal Type: cat\n",
      "Number of legs: 10\n"
     ]
    }
   ],
   "source": [
    "animal.number_of_legs = 10\n",
    "animal.display_animal()"
   ]
  },
  {
   "cell_type": "code",
   "execution_count": 15,
   "metadata": {},
   "outputs": [
    {
     "name": "stdout",
     "output_type": "stream",
     "text": [
      "Animal Type: spider\n",
      "Number of legs: 8\n"
     ]
    }
   ],
   "source": [
    "\n",
    "animal_2 = Animal('spider',8)\n",
    "animal_2.display_animal()"
   ]
  },
  {
   "cell_type": "code",
   "execution_count": 16,
   "metadata": {},
   "outputs": [],
   "source": [
    "# Delete an object\n",
    "del animal_2"
   ]
  },
  {
   "cell_type": "markdown",
   "metadata": {},
   "source": [
    "### Python Inheritance\n",
    "- Inheritance allows us to define a class that inherits all the methods and properties from another class.\n",
    "- **Parent class** is the class being inherited from, also called the **base class**\n",
    "- **Child class** is the class that inherits from another class, also called **derived class**\n",
    "- To create a class that inherits the functionality from another class, send the parent class as a parameter when creating the child class:"
   ]
  },
  {
   "cell_type": "code",
   "execution_count": 17,
   "metadata": {},
   "outputs": [
    {
     "data": {
      "text/plain": [
       "'ephrem mesfin'"
      ]
     },
     "execution_count": 17,
     "metadata": {},
     "output_type": "execute_result"
    }
   ],
   "source": [
    "# Parent Class\n",
    "class Person:\n",
    "    def __init__(self, fname, lname):\n",
    "        self.firstname = fname\n",
    "        self.lastname = lname\n",
    "        \n",
    "    def print_name(self):\n",
    "        return f\"{self.firstname} {self.lastname}\"\n",
    "\n",
    "# Child Class\n",
    "class Student(Person):\n",
    "    pass\n",
    "\n",
    "student_1 = Student(\"ephrem\", \"mesfin\")\n",
    "student_1.print_name()\n",
    "\n"
   ]
  },
  {
   "cell_type": "markdown",
   "metadata": {},
   "source": [
    "Note: Use the pass keyword when you do not want to add any other properties or methods to the class."
   ]
  },
  {
   "cell_type": "code",
   "execution_count": 21,
   "metadata": {},
   "outputs": [
    {
     "data": {
      "text/plain": [
       "'Welcome ephrem mesfin, to the class of 2022'"
      ]
     },
     "execution_count": 21,
     "metadata": {},
     "output_type": "execute_result"
    }
   ],
   "source": [
    "# Add the __init__() function\n",
    " # Parent Class\n",
    "class Person:\n",
    "    def __init__(self, fname, lname):\n",
    "        self.firstname = fname\n",
    "        self.lastname = lname\n",
    "        \n",
    "    def print_name(self):\n",
    "        return f\"{self.firstname} {self.lastname}\"\n",
    "\n",
    "# Child Class\n",
    "class Student(Person):\n",
    "    # When you add the __init__() function, the child class will no longer inherit the parent's __init__() function.\n",
    "    def __init__(self, fname, lname, year):\n",
    "        # To keep the inheritance of the parent's __init__() function, add a call to the parent's __init__() function:\n",
    "        # Person.__init__(self, fname, lname)\n",
    "        # Python also has a super() function that will make the child class inherit all the methods and properties from its parent:\n",
    "        super().__init__(fname,lname)\n",
    "        # By using the super() function, you do not have to use the name of the parent element, it will automatically inherit the methods and properties from its parent.\n",
    "        # Adding a new attribute to our child class\n",
    "        self.graduation_year = year\n",
    "\n",
    "    # Adding a new method\n",
    "    def welcome(self):\n",
    "        return f\"Welcome {self.firstname} {self.lastname}, to the class of {self.graduation_year}\"\n",
    "\n",
    "\n",
    "\n",
    "student_1 = Student(\"ephrem\", \"mesfin\", 2022)\n",
    "student_1.welcome()\n",
    "\n"
   ]
  },
  {
   "cell_type": "markdown",
   "metadata": {},
   "source": [
    "If you add a method in the child class with the same name as a function in the parent class, the inheritance of the parent method will be overridden."
   ]
  },
  {
   "cell_type": "markdown",
   "metadata": {},
   "source": []
  }
 ],
 "metadata": {
  "interpreter": {
   "hash": "f0a8ca1b1324573d7b9c7247f92177669f6f55c0b2d917412ca0894f2d26eb46"
  },
  "kernelspec": {
   "display_name": "Python 3.9.10 64-bit (windows store)",
   "language": "python",
   "name": "python3"
  },
  "language_info": {
   "codemirror_mode": {
    "name": "ipython",
    "version": 3
   },
   "file_extension": ".py",
   "mimetype": "text/x-python",
   "name": "python",
   "nbconvert_exporter": "python",
   "pygments_lexer": "ipython3",
   "version": "3.9.10"
  },
  "orig_nbformat": 4
 },
 "nbformat": 4,
 "nbformat_minor": 2
}
