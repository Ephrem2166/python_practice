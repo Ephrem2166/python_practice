{
  "nbformat": 4,
  "nbformat_minor": 0,
  "metadata": {
    "colab": {
      "name": "dictionaries.ipynb",
      "provenance": [],
      "collapsed_sections": []
    },
    "kernelspec": {
      "name": "python3",
      "display_name": "Python 3"
    },
    "language_info": {
      "name": "python"
    }
  },
  "cells": [
    {
      "cell_type": "markdown",
      "source": [
        "#### Python Collections\n",
        "- There are 4 collection data types:\n",
        "\n",
        "\n",
        "1. List: ordered, changeable, and duplicates allowed.\n",
        "2. Dictionary: ordered, changeable, and duplicates not allowed.\n",
        "3. Tuples: ordered and unchangeable. duplicates allowed\n",
        "4. Set: unordered, unchangeable, and unindexed. No duplicate members.\n",
        "\n"
      ],
      "metadata": {
        "id": "TF8W1mt3y_3z"
      }
    },
    {
      "cell_type": "markdown",
      "source": [
        "##### Dictionaries\n",
        "- ordered\n",
        "- changeable\n",
        "- no duplicates"
      ],
      "metadata": {
        "id": "VQPeBybdxoT9"
      }
    },
    {
      "cell_type": "code",
      "execution_count": 1,
      "metadata": {
        "id": "I7-Gux-d0quP"
      },
      "outputs": [],
      "source": [
        "my_favs = {\n",
        "    \"player\":\"Kobe\",\n",
        "    \"team\":\"Lakers\",\n",
        "    \"number\": 24,\n",
        "}"
      ]
    },
    {
      "cell_type": "code",
      "source": [
        "my_favs"
      ],
      "metadata": {
        "colab": {
          "base_uri": "https://localhost:8080/"
        },
        "id": "uILEznKP07Zk",
        "outputId": "e3af4cff-1ee3-4112-f88e-a90781d356ef"
      },
      "execution_count": 2,
      "outputs": [
        {
          "output_type": "execute_result",
          "data": {
            "text/plain": [
              "{'number': 24, 'player': 'Kobe', 'team': 'Lakers'}"
            ]
          },
          "metadata": {},
          "execution_count": 2
        }
      ]
    },
    {
      "cell_type": "code",
      "source": [
        "my_favs['player']"
      ],
      "metadata": {
        "id": "8tYYDiBP1jta",
        "colab": {
          "base_uri": "https://localhost:8080/",
          "height": 36
        },
        "outputId": "bc113280-6453-4f25-ab9b-eb44aab41610"
      },
      "execution_count": 3,
      "outputs": [
        {
          "output_type": "execute_result",
          "data": {
            "application/vnd.google.colaboratory.intrinsic+json": {
              "type": "string"
            },
            "text/plain": [
              "'Kobe'"
            ]
          },
          "metadata": {},
          "execution_count": 3
        }
      ]
    },
    {
      "cell_type": "markdown",
      "source": [
        "They are accessed using the key value or by using the `get()` method"
      ],
      "metadata": {
        "id": "y1NlvBlVyu8L"
      }
    },
    {
      "cell_type": "code",
      "source": [
        "my_favs.get('team')"
      ],
      "metadata": {
        "id": "yox3P2_b3Vmf",
        "colab": {
          "base_uri": "https://localhost:8080/",
          "height": 36
        },
        "outputId": "3b4505c2-68c2-4d8f-a46e-0e9916dd41f4"
      },
      "execution_count": 4,
      "outputs": [
        {
          "output_type": "execute_result",
          "data": {
            "application/vnd.google.colaboratory.intrinsic+json": {
              "type": "string"
            },
            "text/plain": [
              "'Lakers'"
            ]
          },
          "metadata": {},
          "execution_count": 4
        }
      ]
    },
    {
      "cell_type": "code",
      "source": [
        "# The list of the keys is a view of the dictionary, meaning that any changes done to the dictionary will be reflected in the keys list.\n",
        "my_favs.keys() # returns all the key values in a dictionary"
      ],
      "metadata": {
        "colab": {
          "base_uri": "https://localhost:8080/"
        },
        "id": "dAy3gJxRyzTD",
        "outputId": "1f4c0ee3-8327-43dc-df57-90c198f0817c"
      },
      "execution_count": 8,
      "outputs": [
        {
          "output_type": "execute_result",
          "data": {
            "text/plain": [
              "dict_keys(['player', 'team', 'number'])"
            ]
          },
          "metadata": {},
          "execution_count": 8
        }
      ]
    },
    {
      "cell_type": "code",
      "source": [
        "# The values() method will return a list of all the values in the dictionary.\n",
        "my_favs.values()"
      ],
      "metadata": {
        "colab": {
          "base_uri": "https://localhost:8080/"
        },
        "id": "SjSSIIZ90RYs",
        "outputId": "24609f91-f7b7-4191-9d6d-ac69af889465"
      },
      "execution_count": 10,
      "outputs": [
        {
          "output_type": "execute_result",
          "data": {
            "text/plain": [
              "dict_values(['Kobe', 'Lakers', 24])"
            ]
          },
          "metadata": {},
          "execution_count": 10
        }
      ]
    },
    {
      "cell_type": "code",
      "source": [
        "# Adding new key value pair\n",
        "my_favs['status'] = 'goat'"
      ],
      "metadata": {
        "id": "iVt8LOPN0rVn"
      },
      "execution_count": 13,
      "outputs": []
    },
    {
      "cell_type": "code",
      "source": [
        "my_favs"
      ],
      "metadata": {
        "colab": {
          "base_uri": "https://localhost:8080/"
        },
        "id": "OmNH3F7i1Vs2",
        "outputId": "31ab1bd9-a443-41d9-f100-295662800169"
      },
      "execution_count": 14,
      "outputs": [
        {
          "output_type": "execute_result",
          "data": {
            "text/plain": [
              "{'number': 24, 'player': 'Kobe', 'status': 'goat', 'team': 'Lakers'}"
            ]
          },
          "metadata": {},
          "execution_count": 14
        }
      ]
    },
    {
      "cell_type": "code",
      "source": [
        "# The items() method will return each item in a dictionary, as tuples in a list.\n",
        "my_favs.items()"
      ],
      "metadata": {
        "colab": {
          "base_uri": "https://localhost:8080/"
        },
        "id": "8vX_clzg1Wo5",
        "outputId": "01a48b71-7b54-4f9a-f74c-25230d86e09e"
      },
      "execution_count": 21,
      "outputs": [
        {
          "output_type": "execute_result",
          "data": {
            "text/plain": [
              "dict_items([('player', 'Kobe'), ('team', 'Lakers'), ('number', 24), ('status', 'goat')])"
            ]
          },
          "metadata": {},
          "execution_count": 21
        }
      ]
    },
    {
      "cell_type": "code",
      "source": [
        "# To determine if a specified key is present in a dictionary use the in keyword:\n",
        "'team' in my_favs"
      ],
      "metadata": {
        "colab": {
          "base_uri": "https://localhost:8080/"
        },
        "id": "1LkKNBY51nmo",
        "outputId": "1a12a4a1-4541-496a-ac48-7692454e3398"
      },
      "execution_count": 22,
      "outputs": [
        {
          "output_type": "execute_result",
          "data": {
            "text/plain": [
              "True"
            ]
          },
          "metadata": {},
          "execution_count": 22
        }
      ]
    },
    {
      "cell_type": "code",
      "source": [
        "# Changing or updating a value\n",
        "my_favs['number'] = 8"
      ],
      "metadata": {
        "id": "zZvb1xb31wuG"
      },
      "execution_count": 25,
      "outputs": []
    },
    {
      "cell_type": "code",
      "source": [
        "my_favs"
      ],
      "metadata": {
        "colab": {
          "base_uri": "https://localhost:8080/"
        },
        "id": "SS7pIefc2P3J",
        "outputId": "0c18d387-41e1-4b1e-cc5a-cbc80913ceda"
      },
      "execution_count": 26,
      "outputs": [
        {
          "output_type": "execute_result",
          "data": {
            "text/plain": [
              "{'number': 8, 'player': 'Kobe', 'status': 'goat', 'team': 'Lakers'}"
            ]
          },
          "metadata": {},
          "execution_count": 26
        }
      ]
    },
    {
      "cell_type": "code",
      "source": [
        "# we can update alternatively using update()\n",
        "my_favs.update({'number': 24})"
      ],
      "metadata": {
        "id": "-1Qwv7XV2Q4S"
      },
      "execution_count": 27,
      "outputs": []
    },
    {
      "cell_type": "code",
      "source": [
        "my_favs"
      ],
      "metadata": {
        "colab": {
          "base_uri": "https://localhost:8080/"
        },
        "id": "SepIuvyP2mKk",
        "outputId": "2e9c762a-e7bb-47e7-80f3-ae1abe38b72b"
      },
      "execution_count": 28,
      "outputs": [
        {
          "output_type": "execute_result",
          "data": {
            "text/plain": [
              "{'number': 24, 'player': 'Kobe', 'status': 'goat', 'team': 'Lakers'}"
            ]
          },
          "metadata": {},
          "execution_count": 28
        }
      ]
    },
    {
      "cell_type": "code",
      "source": [
        "# adding a new key:value pair\n",
        "my_favs['retired'] = 2011"
      ],
      "metadata": {
        "id": "ONmhYvqs2nYB"
      },
      "execution_count": 29,
      "outputs": []
    },
    {
      "cell_type": "code",
      "source": [
        "my_favs"
      ],
      "metadata": {
        "colab": {
          "base_uri": "https://localhost:8080/"
        },
        "id": "-69XNn8w27Vi",
        "outputId": "0742135b-a6c7-4113-b918-55a4408133bb"
      },
      "execution_count": 30,
      "outputs": [
        {
          "output_type": "execute_result",
          "data": {
            "text/plain": [
              "{'number': 24,\n",
              " 'player': 'Kobe',\n",
              " 'retired': 2011,\n",
              " 'status': 'goat',\n",
              " 'team': 'Lakers'}"
            ]
          },
          "metadata": {},
          "execution_count": 30
        }
      ]
    },
    {
      "cell_type": "code",
      "source": [
        "# alternatively we can add new key:value using update\n",
        "my_favs.update({'all_star': 18})"
      ],
      "metadata": {
        "id": "yDuB1bWr28oZ"
      },
      "execution_count": 31,
      "outputs": []
    },
    {
      "cell_type": "code",
      "source": [
        "my_favs"
      ],
      "metadata": {
        "colab": {
          "base_uri": "https://localhost:8080/"
        },
        "id": "z0OdIVR13OY_",
        "outputId": "1076a00e-e976-4d44-efa5-2e2188dfae43"
      },
      "execution_count": 32,
      "outputs": [
        {
          "output_type": "execute_result",
          "data": {
            "text/plain": [
              "{'all_star': 18,\n",
              " 'number': 24,\n",
              " 'player': 'Kobe',\n",
              " 'retired': 2011,\n",
              " 'status': 'goat',\n",
              " 'team': 'Lakers'}"
            ]
          },
          "metadata": {},
          "execution_count": 32
        }
      ]
    },
    {
      "cell_type": "code",
      "source": [
        "my_favs.update({'retired': 2012})"
      ],
      "metadata": {
        "id": "VioOrpp63Pcl"
      },
      "execution_count": 33,
      "outputs": []
    },
    {
      "cell_type": "code",
      "source": [
        "my_favs"
      ],
      "metadata": {
        "colab": {
          "base_uri": "https://localhost:8080/"
        },
        "id": "MIPswwBJ3VZz",
        "outputId": "f454d69c-d44a-49e6-9b1a-d0f8ca561f8a"
      },
      "execution_count": 34,
      "outputs": [
        {
          "output_type": "execute_result",
          "data": {
            "text/plain": [
              "{'all_star': 18,\n",
              " 'number': 24,\n",
              " 'player': 'Kobe',\n",
              " 'retired': 2012,\n",
              " 'status': 'goat',\n",
              " 'team': 'Lakers'}"
            ]
          },
          "metadata": {},
          "execution_count": 34
        }
      ]
    },
    {
      "cell_type": "code",
      "source": [
        "# remove an item using the key\n",
        "my_favs.pop('all_star')"
      ],
      "metadata": {
        "colab": {
          "base_uri": "https://localhost:8080/"
        },
        "id": "t69IEwZZ3WUQ",
        "outputId": "3722f396-3597-4308-d693-cc5c6933836d"
      },
      "execution_count": 35,
      "outputs": [
        {
          "output_type": "execute_result",
          "data": {
            "text/plain": [
              "18"
            ]
          },
          "metadata": {},
          "execution_count": 35
        }
      ]
    },
    {
      "cell_type": "code",
      "source": [
        "my_favs"
      ],
      "metadata": {
        "colab": {
          "base_uri": "https://localhost:8080/"
        },
        "id": "S2qN_ebE4WqQ",
        "outputId": "d632a001-b081-4a5f-bc36-2a598e8e131b"
      },
      "execution_count": 36,
      "outputs": [
        {
          "output_type": "execute_result",
          "data": {
            "text/plain": [
              "{'number': 24,\n",
              " 'player': 'Kobe',\n",
              " 'retired': 2012,\n",
              " 'status': 'goat',\n",
              " 'team': 'Lakers'}"
            ]
          },
          "metadata": {},
          "execution_count": 36
        }
      ]
    },
    {
      "cell_type": "code",
      "source": [
        "# remove last inserted value\n",
        "my_favs.popitem()"
      ],
      "metadata": {
        "colab": {
          "base_uri": "https://localhost:8080/"
        },
        "id": "H3mJD8P64YhQ",
        "outputId": "b6e9e399-be5a-40dd-8ac8-a2ccbe95cd65"
      },
      "execution_count": 37,
      "outputs": [
        {
          "output_type": "execute_result",
          "data": {
            "text/plain": [
              "('retired', 2012)"
            ]
          },
          "metadata": {},
          "execution_count": 37
        }
      ]
    },
    {
      "cell_type": "code",
      "source": [
        "my_favs"
      ],
      "metadata": {
        "colab": {
          "base_uri": "https://localhost:8080/"
        },
        "id": "9VMmVo7X4gWV",
        "outputId": "8f3c0f74-de75-48c3-c105-f4b77460dc1c"
      },
      "execution_count": 38,
      "outputs": [
        {
          "output_type": "execute_result",
          "data": {
            "text/plain": [
              "{'number': 24, 'player': 'Kobe', 'status': 'goat', 'team': 'Lakers'}"
            ]
          },
          "metadata": {},
          "execution_count": 38
        }
      ]
    },
    {
      "cell_type": "code",
      "source": [
        "# The del keyword removes the item with the specified key name\n",
        "# The del keyword can also delete the dictionary completely\n",
        "del my_favs['status']"
      ],
      "metadata": {
        "id": "6F8WpHxP4h0m"
      },
      "execution_count": 39,
      "outputs": []
    },
    {
      "cell_type": "code",
      "source": [
        "my_favs"
      ],
      "metadata": {
        "colab": {
          "base_uri": "https://localhost:8080/"
        },
        "id": "65suBIEH5izb",
        "outputId": "edc16e36-24d5-4d12-8be3-51da164f0fa4"
      },
      "execution_count": 40,
      "outputs": [
        {
          "output_type": "execute_result",
          "data": {
            "text/plain": [
              "{'number': 24, 'player': 'Kobe', 'team': 'Lakers'}"
            ]
          },
          "metadata": {},
          "execution_count": 40
        }
      ]
    },
    {
      "cell_type": "code",
      "source": [
        "# The empty method empties the dictionary\n",
        "my_favs.clear()"
      ],
      "metadata": {
        "id": "T0FXRoke5kVu"
      },
      "execution_count": 41,
      "outputs": []
    },
    {
      "cell_type": "code",
      "source": [
        "my_favs"
      ],
      "metadata": {
        "colab": {
          "base_uri": "https://localhost:8080/"
        },
        "id": "-qPA47Vz53cR",
        "outputId": "d8d0f4b9-825c-4d89-9216-a23bb3c85376"
      },
      "execution_count": 42,
      "outputs": [
        {
          "output_type": "execute_result",
          "data": {
            "text/plain": [
              "{}"
            ]
          },
          "metadata": {},
          "execution_count": 42
        }
      ]
    },
    {
      "cell_type": "markdown",
      "source": [
        "### Looping"
      ],
      "metadata": {
        "id": "NMZvmimhJDW0"
      }
    },
    {
      "cell_type": "code",
      "source": [
        "# You can loop through a dictionary by using a for loop.\n",
        "\n",
        "# When looping through a dictionary, the return value are the keys of the dictionary, but there are methods to return the values as well.\n",
        "my_favs = {'number': 24, 'player': 'Kobe', 'team': 'Lakers'}"
      ],
      "metadata": {
        "id": "r3BLdbii54aj"
      },
      "execution_count": 43,
      "outputs": []
    },
    {
      "cell_type": "code",
      "source": [
        "my_favs"
      ],
      "metadata": {
        "colab": {
          "base_uri": "https://localhost:8080/"
        },
        "id": "6rE_zIu-JQ_W",
        "outputId": "0aa64bfc-cc5b-49e5-a683-b1b886ed5c7e"
      },
      "execution_count": 44,
      "outputs": [
        {
          "output_type": "execute_result",
          "data": {
            "text/plain": [
              "{'number': 24, 'player': 'Kobe', 'team': 'Lakers'}"
            ]
          },
          "metadata": {},
          "execution_count": 44
        }
      ]
    },
    {
      "cell_type": "code",
      "source": [
        "for key in my_favs:\n",
        "  print(key)"
      ],
      "metadata": {
        "colab": {
          "base_uri": "https://localhost:8080/"
        },
        "id": "HGbbPC_IJSFN",
        "outputId": "5089b765-8370-49a4-f255-3d9e4e2c2870"
      },
      "execution_count": 45,
      "outputs": [
        {
          "output_type": "stream",
          "name": "stdout",
          "text": [
            "number\n",
            "player\n",
            "team\n"
          ]
        }
      ]
    },
    {
      "cell_type": "code",
      "source": [
        "# printing all values in a dictionary\n",
        "for x in my_favs:\n",
        "  print(my_favs[x])"
      ],
      "metadata": {
        "colab": {
          "base_uri": "https://localhost:8080/"
        },
        "id": "JjOnd7BNJYJh",
        "outputId": "3950bca9-8b85-48bb-97d9-447696e09c6e"
      },
      "execution_count": 46,
      "outputs": [
        {
          "output_type": "stream",
          "name": "stdout",
          "text": [
            "24\n",
            "Kobe\n",
            "Lakers\n"
          ]
        }
      ]
    },
    {
      "cell_type": "code",
      "source": [
        "# You can also use the values() method to return values of a dictionary:\n",
        "for x in my_favs.values():\n",
        "  print(x)"
      ],
      "metadata": {
        "colab": {
          "base_uri": "https://localhost:8080/"
        },
        "id": "x0YoA6OgJjH8",
        "outputId": "10ca6c95-70b8-4266-8163-77034dd5d444"
      },
      "execution_count": 47,
      "outputs": [
        {
          "output_type": "stream",
          "name": "stdout",
          "text": [
            "24\n",
            "Kobe\n",
            "Lakers\n"
          ]
        }
      ]
    },
    {
      "cell_type": "code",
      "source": [
        "# You can use the keys() method to return the keys of a dictionary:\n",
        "for x in my_favs.keys():\n",
        "  print(x)"
      ],
      "metadata": {
        "colab": {
          "base_uri": "https://localhost:8080/"
        },
        "id": "GCJeAUHUJuGe",
        "outputId": "1a4b3aa1-9204-4750-ca2c-2f109cb7df9c"
      },
      "execution_count": 48,
      "outputs": [
        {
          "output_type": "stream",
          "name": "stdout",
          "text": [
            "number\n",
            "player\n",
            "team\n"
          ]
        }
      ]
    },
    {
      "cell_type": "code",
      "source": [
        "# Loop through both keys and values, by using the items() method:\n",
        "for x,y in my_favs.items():\n",
        "  print(f\"Key: {x}\")\n",
        "  print(f\"Value: {y}\")"
      ],
      "metadata": {
        "colab": {
          "base_uri": "https://localhost:8080/"
        },
        "id": "tpBzBa_FJ1mI",
        "outputId": "aa09d32a-9e81-4c92-d968-c1ef9e6966af"
      },
      "execution_count": 50,
      "outputs": [
        {
          "output_type": "stream",
          "name": "stdout",
          "text": [
            "Key: number\n",
            "Value: 24\n",
            "Key: player\n",
            "Value: Kobe\n",
            "Key: team\n",
            "Value: Lakers\n"
          ]
        }
      ]
    },
    {
      "cell_type": "code",
      "source": [
        ""
      ],
      "metadata": {
        "id": "vWuEE7EuKGCz"
      },
      "execution_count": null,
      "outputs": []
    },
    {
      "cell_type": "markdown",
      "source": [
        "- You cannot copy a dictionary simply by typing dict2 = dict1, because: dict2 will only be a reference to dict1, and changes made in dict1 will automatically also be made in dict2.\n",
        "- There are ways to make a copy, one way is to use the built-in Dictionary method copy()."
      ],
      "metadata": {
        "id": "Sh93UbDjLnNY"
      }
    },
    {
      "cell_type": "code",
      "source": [
        "my_favs_copy = my_favs.copy()\n",
        "my_favs_copy"
      ],
      "metadata": {
        "colab": {
          "base_uri": "https://localhost:8080/"
        },
        "id": "0PhFGxd5LoM6",
        "outputId": "5b48dccf-f099-4888-8b5e-29789b69c5d5"
      },
      "execution_count": 51,
      "outputs": [
        {
          "output_type": "execute_result",
          "data": {
            "text/plain": [
              "{'number': 24, 'player': 'Kobe', 'team': 'Lakers'}"
            ]
          },
          "metadata": {},
          "execution_count": 51
        }
      ]
    },
    {
      "cell_type": "code",
      "source": [
        "# Another way to make a copy is to use the built-in function dict()\n",
        "my_favs_copy_2 = dict(my_favs)\n",
        "my_favs_copy_2"
      ],
      "metadata": {
        "colab": {
          "base_uri": "https://localhost:8080/"
        },
        "id": "zwaKtIiTL41x",
        "outputId": "e0a4990c-c4ad-429c-bd1a-a00aa1e9f8a7"
      },
      "execution_count": 52,
      "outputs": [
        {
          "output_type": "execute_result",
          "data": {
            "text/plain": [
              "{'number': 24, 'player': 'Kobe', 'team': 'Lakers'}"
            ]
          },
          "metadata": {},
          "execution_count": 52
        }
      ]
    },
    {
      "cell_type": "code",
      "source": [
        ""
      ],
      "metadata": {
        "id": "tlxJHbzQMFM0"
      },
      "execution_count": null,
      "outputs": []
    },
    {
      "cell_type": "markdown",
      "source": [
        "### Nested Dictionary"
      ],
      "metadata": {
        "id": "5iUkX3JzMlfy"
      }
    },
    {
      "cell_type": "code",
      "source": [
        "players = {\n",
        "    \"player_1\":{\n",
        "        \"name\": \"Lebron\",\n",
        "        \"age\": 37,\n",
        "        \"team\": \"Lakers\",\n",
        "    },\n",
        "    \"player_2\":{\n",
        "        \"name\": \"Westbrook\",\n",
        "        \"age\": 32,\n",
        "        \"team\": \"Lakers\",\n",
        "    },\n",
        "    \"player_3\":{\n",
        "        \"name\": \"Monk\",\n",
        "        \"age\": 24,\n",
        "        \"team\": \"Lakers\",\n",
        "    },\n",
        "    \n",
        "}"
      ],
      "metadata": {
        "id": "7HqbPzpBMnhU"
      },
      "execution_count": 61,
      "outputs": []
    },
    {
      "cell_type": "code",
      "source": [
        "players"
      ],
      "metadata": {
        "colab": {
          "base_uri": "https://localhost:8080/"
        },
        "id": "oNqMDzO9M9En",
        "outputId": "026963fc-7a90-4042-b5ff-4f3e4d1aa341"
      },
      "execution_count": 62,
      "outputs": [
        {
          "output_type": "execute_result",
          "data": {
            "text/plain": [
              "{'player_1': {'age': 37, 'name': 'Lebron', 'team': 'Lakers'},\n",
              " 'player_2': {'age': 32, 'name': 'Westbrook', 'team': 'Lakers'},\n",
              " 'player_3': {'age': 24, 'name': 'Monk', 'team': 'Lakers'}}"
            ]
          },
          "metadata": {},
          "execution_count": 62
        }
      ]
    },
    {
      "cell_type": "code",
      "source": [
        "players['player_1']"
      ],
      "metadata": {
        "colab": {
          "base_uri": "https://localhost:8080/"
        },
        "id": "LQ_IS3LaM-LT",
        "outputId": "43f8d103-c564-43ec-e545-0d594551310b"
      },
      "execution_count": 63,
      "outputs": [
        {
          "output_type": "execute_result",
          "data": {
            "text/plain": [
              "{'age': 37, 'name': 'Lebron', 'team': 'Lakers'}"
            ]
          },
          "metadata": {},
          "execution_count": 63
        }
      ]
    },
    {
      "cell_type": "code",
      "source": [
        "food_1 = {\n",
        "    \"name\": \"shiro\",\n",
        "    \"price\": 10,\n",
        "}\n",
        "food_2 = {\n",
        "    \"name\": \"mahbrawi\",\n",
        "    \"price\": 20,\n",
        "}\n",
        "food_3 = {\n",
        "    \"name\": \"cake\",\n",
        "    \"price\": 30,\n",
        "}\n",
        "my_foods = {\n",
        "    \"food_1\": food_1,\n",
        "    \"food_2\": food_2,\n",
        "    \"food_3\": food_3\n",
        "}"
      ],
      "metadata": {
        "id": "N7zs_2O_NNQm"
      },
      "execution_count": 64,
      "outputs": []
    },
    {
      "cell_type": "code",
      "source": [
        "my_foods"
      ],
      "metadata": {
        "colab": {
          "base_uri": "https://localhost:8080/"
        },
        "id": "Zrc_Z-kQOwQN",
        "outputId": "090b3ac5-711e-463d-d2b7-aa5b16f469db"
      },
      "execution_count": 65,
      "outputs": [
        {
          "output_type": "execute_result",
          "data": {
            "text/plain": [
              "{'food_1': {'name': 'shiro', 'price': 10},\n",
              " 'food_2': {'name': 'mahbrawi', 'price': 20},\n",
              " 'food_3': {'name': 'cake', 'price': 30}}"
            ]
          },
          "metadata": {},
          "execution_count": 65
        }
      ]
    },
    {
      "cell_type": "code",
      "source": [
        ""
      ],
      "metadata": {
        "id": "rYbKoEAkOxjm"
      },
      "execution_count": null,
      "outputs": []
    },
    {
      "cell_type": "markdown",
      "source": [
        "### Summary\n",
        "Dictionary methods:\n",
        "\n",
        "- `clear()`:\tRemoves all the elements from the dictionary\n",
        "- `copy()`\tReturns a copy of the dictionary\n",
        "- `fromkeys()`:\tReturns a dictionary with the specified keys and value\n",
        "- `get()`:\tReturns the value of the specified key\n",
        "- `items()`:\tReturns a list containing a tuple for each key value pair\n",
        "- `keys()`:\tReturns a list containing the dictionary's keys\n",
        "- `pop()`: Removes the element with the specified key\n",
        "- `popitem()`: Removes the last inserted key-value pair\n",
        "- `setdefault()`:\tReturns the value of the specified key. If the key does not - exist: insert the key, with the specified value\n",
        "- `update()`:\tUpdates the dictionary with the specified key-value pairs\n",
        "- `values()`:\tReturns a list of all the values in the dictionary"
      ],
      "metadata": {
        "id": "CH1qlNfKO8bv"
      }
    },
    {
      "cell_type": "code",
      "source": [
        ""
      ],
      "metadata": {
        "id": "LkKPXya7Pjv8"
      },
      "execution_count": null,
      "outputs": []
    }
  ]
}